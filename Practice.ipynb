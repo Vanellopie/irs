{
 "cells": [
  {
   "cell_type": "code",
   "execution_count": 1,
   "id": "d5895f58-8548-4075-9530-a1192a3a0dd9",
   "metadata": {
    "collapsed": true,
    "jupyter": {
     "outputs_hidden": true
    },
    "tags": []
   },
   "outputs": [
    {
     "name": "stdout",
     "output_type": "stream",
     "text": [
      "Requirement already satisfied: streamlit in /Users/Nandin-Erdene/Library/jupyterlab-desktop/jlab_server/lib/python3.8/site-packages (1.27.2)\n",
      "Requirement already satisfied: altair<6,>=4.0 in /Users/Nandin-Erdene/Library/jupyterlab-desktop/jlab_server/lib/python3.8/site-packages (from streamlit) (5.1.2)\n",
      "Requirement already satisfied: blinker<2,>=1.0.0 in /Users/Nandin-Erdene/Library/jupyterlab-desktop/jlab_server/lib/python3.8/site-packages (from streamlit) (1.6.3)\n",
      "Requirement already satisfied: cachetools<6,>=4.0 in /Users/Nandin-Erdene/Library/jupyterlab-desktop/jlab_server/lib/python3.8/site-packages (from streamlit) (5.3.1)\n",
      "Requirement already satisfied: click<9,>=7.0 in /Users/Nandin-Erdene/Library/jupyterlab-desktop/jlab_server/lib/python3.8/site-packages (from streamlit) (8.1.7)\n",
      "Requirement already satisfied: importlib-metadata<7,>=1.4 in /Users/Nandin-Erdene/Library/jupyterlab-desktop/jlab_server/lib/python3.8/site-packages (from streamlit) (6.8.0)\n",
      "Requirement already satisfied: numpy<2,>=1.19.3 in /Users/Nandin-Erdene/Library/jupyterlab-desktop/jlab_server/lib/python3.8/site-packages (from streamlit) (1.24.4)\n",
      "Requirement already satisfied: packaging<24,>=16.8 in /Users/Nandin-Erdene/Library/jupyterlab-desktop/jlab_server/lib/python3.8/site-packages (from streamlit) (23.1)\n",
      "Requirement already satisfied: pandas<3,>=1.3.0 in /Users/Nandin-Erdene/Library/jupyterlab-desktop/jlab_server/lib/python3.8/site-packages (from streamlit) (2.0.3)\n",
      "Requirement already satisfied: pillow<11,>=7.1.0 in /Users/Nandin-Erdene/Library/jupyterlab-desktop/jlab_server/lib/python3.8/site-packages (from streamlit) (10.0.0)\n",
      "Requirement already satisfied: protobuf<5,>=3.20 in /Users/Nandin-Erdene/Library/jupyterlab-desktop/jlab_server/lib/python3.8/site-packages (from streamlit) (4.24.4)\n",
      "Requirement already satisfied: pyarrow>=6.0 in /Users/Nandin-Erdene/Library/jupyterlab-desktop/jlab_server/lib/python3.8/site-packages (from streamlit) (13.0.0)\n",
      "Requirement already satisfied: python-dateutil<3,>=2.7.3 in /Users/Nandin-Erdene/Library/jupyterlab-desktop/jlab_server/lib/python3.8/site-packages (from streamlit) (2.8.2)\n",
      "Requirement already satisfied: requests<3,>=2.27 in /Users/Nandin-Erdene/Library/jupyterlab-desktop/jlab_server/lib/python3.8/site-packages (from streamlit) (2.31.0)\n",
      "Requirement already satisfied: rich<14,>=10.14.0 in /Users/Nandin-Erdene/Library/jupyterlab-desktop/jlab_server/lib/python3.8/site-packages (from streamlit) (13.6.0)\n",
      "Requirement already satisfied: tenacity<9,>=8.1.0 in /Users/Nandin-Erdene/Library/jupyterlab-desktop/jlab_server/lib/python3.8/site-packages (from streamlit) (8.2.3)\n",
      "Requirement already satisfied: toml<2,>=0.10.1 in /Users/Nandin-Erdene/Library/jupyterlab-desktop/jlab_server/lib/python3.8/site-packages (from streamlit) (0.10.2)\n",
      "Requirement already satisfied: typing-extensions<5,>=4.3.0 in /Users/Nandin-Erdene/Library/jupyterlab-desktop/jlab_server/lib/python3.8/site-packages (from streamlit) (4.7.1)\n",
      "Requirement already satisfied: tzlocal<6,>=1.1 in /Users/Nandin-Erdene/Library/jupyterlab-desktop/jlab_server/lib/python3.8/site-packages (from streamlit) (5.1)\n",
      "Requirement already satisfied: validators<1,>=0.2 in /Users/Nandin-Erdene/Library/jupyterlab-desktop/jlab_server/lib/python3.8/site-packages (from streamlit) (0.22.0)\n",
      "Requirement already satisfied: gitpython!=3.1.19,<4,>=3.0.7 in /Users/Nandin-Erdene/Library/jupyterlab-desktop/jlab_server/lib/python3.8/site-packages (from streamlit) (3.1.37)\n",
      "Requirement already satisfied: pydeck<1,>=0.8.0b4 in /Users/Nandin-Erdene/Library/jupyterlab-desktop/jlab_server/lib/python3.8/site-packages (from streamlit) (0.8.1b0)\n",
      "Requirement already satisfied: tornado<7,>=6.0.3 in /Users/Nandin-Erdene/Library/jupyterlab-desktop/jlab_server/lib/python3.8/site-packages (from streamlit) (6.3.3)\n",
      "Requirement already satisfied: jinja2 in /Users/Nandin-Erdene/Library/jupyterlab-desktop/jlab_server/lib/python3.8/site-packages (from altair<6,>=4.0->streamlit) (3.1.2)\n",
      "Requirement already satisfied: jsonschema>=3.0 in /Users/Nandin-Erdene/Library/jupyterlab-desktop/jlab_server/lib/python3.8/site-packages (from altair<6,>=4.0->streamlit) (4.19.0)\n",
      "Requirement already satisfied: toolz in /Users/Nandin-Erdene/Library/jupyterlab-desktop/jlab_server/lib/python3.8/site-packages (from altair<6,>=4.0->streamlit) (0.12.0)\n",
      "Requirement already satisfied: gitdb<5,>=4.0.1 in /Users/Nandin-Erdene/Library/jupyterlab-desktop/jlab_server/lib/python3.8/site-packages (from gitpython!=3.1.19,<4,>=3.0.7->streamlit) (4.0.10)\n",
      "Requirement already satisfied: zipp>=0.5 in /Users/Nandin-Erdene/Library/jupyterlab-desktop/jlab_server/lib/python3.8/site-packages (from importlib-metadata<7,>=1.4->streamlit) (3.16.2)\n",
      "Requirement already satisfied: pytz>=2020.1 in /Users/Nandin-Erdene/Library/jupyterlab-desktop/jlab_server/lib/python3.8/site-packages (from pandas<3,>=1.3.0->streamlit) (2023.3)\n",
      "Requirement already satisfied: tzdata>=2022.1 in /Users/Nandin-Erdene/Library/jupyterlab-desktop/jlab_server/lib/python3.8/site-packages (from pandas<3,>=1.3.0->streamlit) (2023.3)\n",
      "Requirement already satisfied: six>=1.5 in /Users/Nandin-Erdene/Library/jupyterlab-desktop/jlab_server/lib/python3.8/site-packages (from python-dateutil<3,>=2.7.3->streamlit) (1.16.0)\n",
      "Requirement already satisfied: charset-normalizer<4,>=2 in /Users/Nandin-Erdene/Library/jupyterlab-desktop/jlab_server/lib/python3.8/site-packages (from requests<3,>=2.27->streamlit) (3.2.0)\n",
      "Requirement already satisfied: idna<4,>=2.5 in /Users/Nandin-Erdene/Library/jupyterlab-desktop/jlab_server/lib/python3.8/site-packages (from requests<3,>=2.27->streamlit) (3.4)\n",
      "Requirement already satisfied: urllib3<3,>=1.21.1 in /Users/Nandin-Erdene/Library/jupyterlab-desktop/jlab_server/lib/python3.8/site-packages (from requests<3,>=2.27->streamlit) (2.0.4)\n",
      "Requirement already satisfied: certifi>=2017.4.17 in /Users/Nandin-Erdene/Library/jupyterlab-desktop/jlab_server/lib/python3.8/site-packages (from requests<3,>=2.27->streamlit) (2023.7.22)\n",
      "Requirement already satisfied: markdown-it-py>=2.2.0 in /Users/Nandin-Erdene/Library/jupyterlab-desktop/jlab_server/lib/python3.8/site-packages (from rich<14,>=10.14.0->streamlit) (3.0.0)\n",
      "Requirement already satisfied: pygments<3.0.0,>=2.13.0 in /Users/Nandin-Erdene/Library/jupyterlab-desktop/jlab_server/lib/python3.8/site-packages (from rich<14,>=10.14.0->streamlit) (2.16.1)\n",
      "Requirement already satisfied: backports.zoneinfo in /Users/Nandin-Erdene/Library/jupyterlab-desktop/jlab_server/lib/python3.8/site-packages (from tzlocal<6,>=1.1->streamlit) (0.2.1)\n",
      "Requirement already satisfied: smmap<6,>=3.0.1 in /Users/Nandin-Erdene/Library/jupyterlab-desktop/jlab_server/lib/python3.8/site-packages (from gitdb<5,>=4.0.1->gitpython!=3.1.19,<4,>=3.0.7->streamlit) (5.0.1)\n",
      "Requirement already satisfied: MarkupSafe>=2.0 in /Users/Nandin-Erdene/Library/jupyterlab-desktop/jlab_server/lib/python3.8/site-packages (from jinja2->altair<6,>=4.0->streamlit) (2.1.3)\n",
      "Requirement already satisfied: attrs>=22.2.0 in /Users/Nandin-Erdene/Library/jupyterlab-desktop/jlab_server/lib/python3.8/site-packages (from jsonschema>=3.0->altair<6,>=4.0->streamlit) (23.1.0)\n",
      "Requirement already satisfied: importlib-resources>=1.4.0 in /Users/Nandin-Erdene/Library/jupyterlab-desktop/jlab_server/lib/python3.8/site-packages (from jsonschema>=3.0->altair<6,>=4.0->streamlit) (6.0.1)\n",
      "Requirement already satisfied: jsonschema-specifications>=2023.03.6 in /Users/Nandin-Erdene/Library/jupyterlab-desktop/jlab_server/lib/python3.8/site-packages (from jsonschema>=3.0->altair<6,>=4.0->streamlit) (2023.7.1)\n",
      "Requirement already satisfied: pkgutil-resolve-name>=1.3.10 in /Users/Nandin-Erdene/Library/jupyterlab-desktop/jlab_server/lib/python3.8/site-packages (from jsonschema>=3.0->altair<6,>=4.0->streamlit) (1.3.10)\n",
      "Requirement already satisfied: referencing>=0.28.4 in /Users/Nandin-Erdene/Library/jupyterlab-desktop/jlab_server/lib/python3.8/site-packages (from jsonschema>=3.0->altair<6,>=4.0->streamlit) (0.30.2)\n",
      "Requirement already satisfied: rpds-py>=0.7.1 in /Users/Nandin-Erdene/Library/jupyterlab-desktop/jlab_server/lib/python3.8/site-packages (from jsonschema>=3.0->altair<6,>=4.0->streamlit) (0.9.2)\n",
      "Requirement already satisfied: mdurl~=0.1 in /Users/Nandin-Erdene/Library/jupyterlab-desktop/jlab_server/lib/python3.8/site-packages (from markdown-it-py>=2.2.0->rich<14,>=10.14.0->streamlit) (0.1.2)\n"
     ]
    }
   ],
   "source": [
    "!pip install streamlit"
   ]
  },
  {
   "cell_type": "code",
   "execution_count": 2,
   "id": "d1381d02-6daf-4490-93f0-0abf2853f1cd",
   "metadata": {},
   "outputs": [
    {
     "name": "stdout",
     "output_type": "stream",
     "text": [
      "Requirement already satisfied: joblib in /Users/Nandin-Erdene/Library/jupyterlab-desktop/jlab_server/lib/python3.8/site-packages (1.3.2)\n"
     ]
    }
   ],
   "source": [
    "!pip install joblib"
   ]
  },
  {
   "cell_type": "code",
   "execution_count": 3,
   "id": "33582ae5-62d6-4496-9d2a-af396bf65c6c",
   "metadata": {
    "collapsed": true,
    "jupyter": {
     "outputs_hidden": true
    }
   },
   "outputs": [
    {
     "name": "stdout",
     "output_type": "stream",
     "text": [
      "Collecting scikit-learn\n",
      "  Obtaining dependency information for scikit-learn from https://files.pythonhosted.org/packages/17/b0/0de229ee8bbb3ff011bb711f0dce0ee9bd39145becaaf2b26645655e7c10/scikit_learn-1.3.1-cp38-cp38-macosx_10_9_x86_64.whl.metadata\n",
      "  Downloading scikit_learn-1.3.1-cp38-cp38-macosx_10_9_x86_64.whl.metadata (11 kB)\n",
      "Requirement already satisfied: numpy<2.0,>=1.17.3 in /Users/Nandin-Erdene/Library/jupyterlab-desktop/jlab_server/lib/python3.8/site-packages (from scikit-learn) (1.24.4)\n",
      "Requirement already satisfied: scipy>=1.5.0 in /Users/Nandin-Erdene/Library/jupyterlab-desktop/jlab_server/lib/python3.8/site-packages (from scikit-learn) (1.10.1)\n",
      "Requirement already satisfied: joblib>=1.1.1 in /Users/Nandin-Erdene/Library/jupyterlab-desktop/jlab_server/lib/python3.8/site-packages (from scikit-learn) (1.3.2)\n",
      "Collecting threadpoolctl>=2.0.0 (from scikit-learn)\n",
      "  Obtaining dependency information for threadpoolctl>=2.0.0 from https://files.pythonhosted.org/packages/81/12/fd4dea011af9d69e1cad05c75f3f7202cdcbeac9b712eea58ca779a72865/threadpoolctl-3.2.0-py3-none-any.whl.metadata\n",
      "  Downloading threadpoolctl-3.2.0-py3-none-any.whl.metadata (10.0 kB)\n",
      "Downloading scikit_learn-1.3.1-cp38-cp38-macosx_10_9_x86_64.whl (10.1 MB)\n",
      "\u001b[2K   \u001b[90m━━━━━━━━━━━━━━━━━━━━━━━━━━━━━━━━━━━━━━━━\u001b[0m \u001b[32m10.1/10.1 MB\u001b[0m \u001b[31m3.4 MB/s\u001b[0m eta \u001b[36m0:00:00\u001b[0m00:01\u001b[0m0:01\u001b[0m\n",
      "\u001b[?25hDownloading threadpoolctl-3.2.0-py3-none-any.whl (15 kB)\n",
      "Installing collected packages: threadpoolctl, scikit-learn\n",
      "Successfully installed scikit-learn-1.3.1 threadpoolctl-3.2.0\n"
     ]
    }
   ],
   "source": [
    "!pip install scikit-learn"
   ]
  },
  {
   "cell_type": "markdown",
   "id": "aeb2d24a-d3dd-4a3f-bb2c-efea0870fc19",
   "metadata": {
    "jp-MarkdownHeadingCollapsed": true,
    "tags": []
   },
   "source": [
    "### Exercise #1: Create a web app to predict `Iris` flower\n",
    "#### Streamlit documentation: https://docs.streamlit.io/library/api-reference\n",
    "* Create input fields where a user can enter flower attributes.\n",
    "  * Inputs are in *centimeters*: `sepal length`, `sepal width`, `petal length`, and `petal width`, \n",
    "  * Inputs can not be greater than 15 or negative number.\n",
    "* Create a button to get the inputs and predict\n",
    "* Use the inputs to predict a flower type.\n",
    "  The model was exported with the `joblib` library, and you can use the following code to load the model:\n",
    "\n",
    "  ``` python\n",
    "  # import the load method from joblib\n",
    "  from joblib import load\n",
    "\n",
    "  model = load('data/iris_model.joblib')\n",
    "\n",
    "  # Inference code. \n",
    "  # The input array is in double brackets because it is 1 dimensional\n",
    "  prediction = model.predict([[1,2,3,4]])\n",
    "  ```\n",
    "\n",
    "  The prediction will be an array with an integer value, which is the predicted class. They are as follows:\n",
    "  - 0: Iris Setosa\n",
    "  - 1: Iris Versicolour\n",
    "  - 2: Iris Virginica\n",
    "  \n",
    "  For your own reference here are the four input variables and their common ranges. These are listed by position of their input. \n",
    "  - 0: sepal length in cm\n",
    "  - 1: sepal width in cm\n",
    "  - 2: petal length in cm\n",
    "  - 3: petal width in cm\n",
    "\n",
    "* Output a predicted flower type as an image. Use the images from `images` folder.\n",
    "\n",
    "![setosa](images/iris_setosa.png)\n",
    "![setosa](images/iris_versicolor.png)\n",
    "![setosa](images/iris_virginica.png)\n",
    "\n",
    "\n"
   ]
  },
  {
   "cell_type": "markdown",
   "id": "76bf1c3e-a103-411a-8ecd-f85426dba5b4",
   "metadata": {},
   "source": [
    "### Exercise #2\n",
    "* Make 2 columns using `st.columns`\n",
    "  * Put sepal inputs in the first column\n",
    "  * Put petal inputs in the second column\n",
    "* Display *predict* button and *output image* in the center using `st.columns`"
   ]
  },
  {
   "cell_type": "markdown",
   "id": "7a394500-10c7-432e-b238-9f2b08b1c44f",
   "metadata": {},
   "source": [
    "### Exercise #3\n",
    "* Deploy your application to the Streamlit Community Cloud.\n",
    "\n",
    "**Steps to deploy**:\n",
    "1. Sign in using your **Github account**. **https://docs.streamlit.io/streamlit-community-cloud/get-started/quickstart**\n",
    "2. Create a repository in your github account\n",
    "3. Upload your local app files to your github repository\n",
    "   * You additionally need to have **requirements.txt** file\n",
    "        * The packages to be installed are: `joblib`, `scikit-learn`\n",
    "5. Connect your github repository to the Streamlit Community Cloud to publish your app. **https://docs.streamlit.io/streamlit-community-cloud/deploy-your-app**"
   ]
  },
  {
   "cell_type": "code",
   "execution_count": null,
   "id": "13c58c1d-43cc-4ccd-96a7-f8a4040a9f49",
   "metadata": {},
   "outputs": [],
   "source": []
  }
 ],
 "metadata": {
  "kernelspec": {
   "display_name": "Python 3 (ipykernel)",
   "language": "python",
   "name": "python3"
  },
  "language_info": {
   "codemirror_mode": {
    "name": "ipython",
    "version": 3
   },
   "file_extension": ".py",
   "mimetype": "text/x-python",
   "name": "python",
   "nbconvert_exporter": "python",
   "pygments_lexer": "ipython3",
   "version": "3.8.17"
  }
 },
 "nbformat": 4,
 "nbformat_minor": 5
}
